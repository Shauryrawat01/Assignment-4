{
 "cells": [
  {
   "cell_type": "code",
   "execution_count": 1,
   "id": "3ba2ccf5-3756-447c-99b2-258872c3f6bf",
   "metadata": {},
   "outputs": [
    {
     "data": {
      "text/plain": [
       "[('Virat Kohli', 24936),\n",
       " ('Jack Kallis', 25534),\n",
       " ('Ricky Ponting', 27483),\n",
       " ('Sachin Tendulkar', 34357)]"
      ]
     },
     "execution_count": 1,
     "metadata": {},
     "output_type": "execute_result"
    }
   ],
   "source": [
    "#Question 1\n",
    "a = [('Sachin Tendulkar', 34357), ('Ricky Ponting', 27483), ('Jack Kallis', 25534), ('Virat Kohli', 24936)]\n",
    "\n",
    "b= sorted(a, key=lambda x: x[1])\n",
    "\n",
    "b"
   ]
  },
  {
   "cell_type": "code",
   "execution_count": 2,
   "id": "48460799-e74c-464d-a090-5b96bfa60b91",
   "metadata": {},
   "outputs": [
    {
     "data": {
      "text/plain": [
       "[1, 4, 9, 16, 25, 36, 49, 64, 81, 100]"
      ]
     },
     "execution_count": 2,
     "metadata": {},
     "output_type": "execute_result"
    }
   ],
   "source": [
    "#Question 2\n",
    "l1=[1, 2, 3, 4, 5, 6, 7, 8, 9, 10]\n",
    "o =lambda x:x**2\n",
    "list(map(o,l1))"
   ]
  },
  {
   "cell_type": "code",
   "execution_count": 4,
   "id": "f0923bf5-ee32-4a3a-927b-cad3a6ad0ed6",
   "metadata": {},
   "outputs": [
    {
     "data": {
      "text/plain": [
       "('1', '2', '3', '4', '5', '6', '7', '8', '9', '10')"
      ]
     },
     "execution_count": 4,
     "metadata": {},
     "output_type": "execute_result"
    }
   ],
   "source": [
    "#Question 3\n",
    "a = [1, 2, 3, 4, 5,6,7,8,9,10]\n",
    "b = tuple(map(lambda x: str(x), a))\n",
    "b"
   ]
  },
  {
   "cell_type": "code",
   "execution_count": 5,
   "id": "d95c96b1-899a-42d3-926c-817a4770a002",
   "metadata": {},
   "outputs": [
    {
     "data": {
      "text/plain": [
       "15511210043330985984000000"
      ]
     },
     "execution_count": 5,
     "metadata": {},
     "output_type": "execute_result"
    }
   ],
   "source": [
    "#Question 4\n",
    "from functools import reduce\n",
    "q = list(range(1, 26))\n",
    "p = reduce(lambda x, y: x * y, q)\n",
    "p\n"
   ]
  },
  {
   "cell_type": "code",
   "execution_count": 6,
   "id": "fdca0160-c79f-43e3-89a6-15bed49950cf",
   "metadata": {},
   "outputs": [
    {
     "data": {
      "text/plain": [
       "[6, 60, 90, 120]"
      ]
     },
     "execution_count": 6,
     "metadata": {},
     "output_type": "execute_result"
    }
   ],
   "source": [
    "#question 5\n",
    "n = [2, 3, 6, 9, 27, 60, 90, 120, 55, 46]\n",
    "m = list(filter(lambda x: x % 2 == 0 and x % 3 == 0, n))\n",
    "m"
   ]
  },
  {
   "cell_type": "code",
   "execution_count": 8,
   "id": "0c2d7c88-a5a2-4201-942a-cee16738fd43",
   "metadata": {},
   "outputs": [
    {
     "data": {
      "text/plain": [
       "['php', 'aba', 'radar', 'level']"
      ]
     },
     "execution_count": 8,
     "metadata": {},
     "output_type": "execute_result"
    }
   ],
   "source": [
    "#Question 6\n",
    "a = ['python', 'php', 'aba', 'radar', 'level']\n",
    "shaury = list(filter(lambda x: x == x[::-1], a))\n",
    "shaury"
   ]
  },
  {
   "cell_type": "code",
   "execution_count": null,
   "id": "193f7fe6-401e-4a52-8b36-d0867475d5ff",
   "metadata": {},
   "outputs": [],
   "source": []
  }
 ],
 "metadata": {
  "kernelspec": {
   "display_name": "Python 3 (ipykernel)",
   "language": "python",
   "name": "python3"
  },
  "language_info": {
   "codemirror_mode": {
    "name": "ipython",
    "version": 3
   },
   "file_extension": ".py",
   "mimetype": "text/x-python",
   "name": "python",
   "nbconvert_exporter": "python",
   "pygments_lexer": "ipython3",
   "version": "3.11.3"
  }
 },
 "nbformat": 4,
 "nbformat_minor": 5
}
